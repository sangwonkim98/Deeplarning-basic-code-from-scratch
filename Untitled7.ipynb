{
  "nbformat": 4,
  "nbformat_minor": 0,
  "metadata": {
    "colab": {
      "provenance": [],
      "authorship_tag": "ABX9TyMmNxtMuiQsktvCPaUnTesM",
      "include_colab_link": true
    },
    "kernelspec": {
      "name": "python3",
      "display_name": "Python 3"
    },
    "language_info": {
      "name": "python"
    }
  },
  "cells": [
    {
      "cell_type": "markdown",
      "metadata": {
        "id": "view-in-github",
        "colab_type": "text"
      },
      "source": [
        "<a href=\"https://colab.research.google.com/github/sangwonkim98/Deeplarning-basic-code-from-scratch/blob/main/Untitled7.ipynb\" target=\"_parent\"><img src=\"https://colab.research.google.com/assets/colab-badge.svg\" alt=\"Open In Colab\"/></a>"
      ]
    },
    {
      "cell_type": "code",
      "execution_count": 1,
      "metadata": {
        "id": "Ocf41CXv5b_V"
      },
      "outputs": [],
      "source": [
        "import torch"
      ]
    },
    {
      "cell_type": "code",
      "source": [
        "def NLLLoss(logs, targets):\n",
        "  out = torch.zeros_like(targets, dtype = torch.float)\n",
        "  for i in range(len(targets)):\n",
        "    out[i] = logs[i][targets[i]]\n",
        "  return -out.sum()/len(out)\n",
        "## logs, targets 을받아서 - (outsum )/ len(out )"
      ],
      "metadata": {
        "id": "WrxdyWoP5e5Q"
      },
      "execution_count": 1,
      "outputs": []
    },
    {
      "cell_type": "code",
      "source": [
        "output = [0.8982, 0.805, 0.6393, 0.9983, 0.5731, 0.0469, 0.556, 0.1476, 0.8404, 0.5544]\n",
        "target = [1]\n",
        "loss = np.log(sum(np.exp(output))) - output[target[0]]\n",
        "print(loss) # 2.143818427948945\n"
      ],
      "metadata": {
        "id": "eur0ttg1rOAj"
      },
      "execution_count": null,
      "outputs": []
    },
    {
      "cell_type": "code",
      "source": [
        "x= torch.Tensor([[0.8982, 0.805, 0.6393, 0.9983,0.5731,0.0469,0.556,0.1476,0.8404,0.5544]])\n",
        "y = torch.LongTensor([1])\n",
        "#case = 1\n",
        "cross_entropy_loss = torch.nn.CrossEntropyLoss()\n",
        "print(cross_entropy_loss(x,y))\n"
      ],
      "metadata": {
        "colab": {
          "base_uri": "https://localhost:8080/"
        },
        "id": "Y2UI8ASa7Nnq",
        "outputId": "2a439b77-11de-46df-ba44-aa2941dc51d5"
      },
      "execution_count": 4,
      "outputs": [
        {
          "output_type": "stream",
          "name": "stdout",
          "text": [
            "tensor(2.1438)\n"
          ]
        }
      ]
    },
    {
      "cell_type": "code",
      "source": [
        "#case =2\n",
        "log_softmax = torch.nn.LogSoftmax(dim =1)\n",
        "x_log = log_softmax(x)\n",
        "print(NLLLoss(x_log, y)) #"
      ],
      "metadata": {
        "colab": {
          "base_uri": "https://localhost:8080/"
        },
        "id": "vwq2_-6F7-dN",
        "outputId": "749a3cbd-c1a6-4dfa-8aff-fab3729211c2"
      },
      "execution_count": 5,
      "outputs": [
        {
          "output_type": "stream",
          "name": "stdout",
          "text": [
            "tensor(2.1438)\n"
          ]
        }
      ]
    },
    {
      "cell_type": "code",
      "source": [
        "#case 3\n",
        "nll_loss = torch.nn.NLLLoss()\n",
        "print(nll_loss(x_log,y))"
      ],
      "metadata": {
        "colab": {
          "base_uri": "https://localhost:8080/"
        },
        "id": "muR3eihV8L8X",
        "outputId": "7cca9685-f937-4542-abd8-55f241f5e9e5"
      },
      "execution_count": 7,
      "outputs": [
        {
          "output_type": "stream",
          "name": "stdout",
          "text": [
            "tensor(2.1438)\n"
          ]
        }
      ]
    },
    {
      "cell_type": "code",
      "source": [
        "import torch\n",
        "import torch.nn as nn\n",
        "import numpy as np\n",
        "output = torch.Tensor(\n",
        "    [\n",
        "        [0.8982, 0.805, 0.6393, 0.9983, 0.5731, 0.0469, 0.556, 0.1476, 0.8404, 0.5544],\n",
        "        [0.9457, 0.0195, 0.9846, 0.3231, 0.1605, 0.3143, 0.9508, 0.2762, 0.7276, 0.4332]\n",
        "    ]\n",
        ")\n",
        "target = torch.LongTensor([1, 5])\n",
        "criterion = nn.CrossEntropyLoss()\n",
        "loss = criterion(output, target)\n",
        "print(loss) # tensor(2.3519)"
      ],
      "metadata": {
        "colab": {
          "base_uri": "https://localhost:8080/"
        },
        "id": "wur0NSpz8UqU",
        "outputId": "e3c4b49f-01cf-4a22-9074-304e7486fd46"
      },
      "execution_count": 2,
      "outputs": [
        {
          "output_type": "stream",
          "name": "stdout",
          "text": [
            "tensor(2.3519)\n"
          ]
        }
      ]
    },
    {
      "cell_type": "code",
      "source": [
        "output = [0.8982, 0.805, 0.6393, 0.9983, 0.5731, 0.0469, 0.556, 0.1476, 0.8404, 0.5544]\n",
        "target = [1]\n",
        "loss1 = np.log(sum(np.exp(output))) - output[target[0]]\n",
        "output = [0.9457, 0.0195, 0.9846, 0.3231, 0.1605, 0.3143, 0.9508, 0.2762, 0.7276, 0.4332]\n",
        "target = [5]\n",
        "loss2 = np.log(sum(np.exp(output))) - output[target[0]]\n",
        "print((loss1 + loss2)/2) # 2.351937720511233\n"
      ],
      "metadata": {
        "id": "W-CcPkr38nlC"
      },
      "execution_count": null,
      "outputs": []
    }
  ]
}